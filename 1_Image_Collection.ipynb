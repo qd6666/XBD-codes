{
  "nbformat": 4,
  "nbformat_minor": 0,
  "metadata": {
    "kernelspec": {
      "display_name": "tfod",
      "language": "python",
      "name": "tfod"
    },
    "language_info": {
      "codemirror_mode": {
        "name": "ipython",
        "version": 3
      },
      "file_extension": ".py",
      "mimetype": "text/x-python",
      "name": "python",
      "nbconvert_exporter": "python",
      "pygments_lexer": "ipython3",
      "version": "3.7.3"
    },
    "colab": {
      "name": "1. Image Collection.ipynb",
      "provenance": [],
      "include_colab_link": true
    }
  },
  "cells": [
    {
      "cell_type": "markdown",
      "metadata": {
        "id": "view-in-github",
        "colab_type": "text"
      },
      "source": [
        "<a href=\"https://colab.research.google.com/github/qd6666/XBD-codes/blob/main/1_Image_Collection.ipynb\" target=\"_parent\"><img src=\"https://colab.research.google.com/assets/colab-badge.svg\" alt=\"Open In Colab\"/></a>"
      ]
    },
    {
      "cell_type": "markdown",
      "metadata": {
        "id": "r2ExZGWj8ufL"
      },
      "source": [
        "# 1. Import Dependencies"
      ]
    },
    {
      "cell_type": "code",
      "metadata": {
        "id": "FClq6dNr8ufN",
        "outputId": "9fe32983-9557-4498-8afe-0b40377d7188"
      },
      "source": [
        "!pip install opencv-python"
      ],
      "execution_count": null,
      "outputs": [
        {
          "name": "stdout",
          "output_type": "stream",
          "text": [
            "Requirement already satisfied: opencv-python in d:\\youtube\\od\\tfodcourse\\tfod\\lib\\site-packages (4.5.1.48)\n",
            "Requirement already satisfied: numpy>=1.14.5 in d:\\youtube\\od\\tfodcourse\\tfod\\lib\\site-packages (from opencv-python) (1.20.2)\n"
          ]
        }
      ]
    },
    {
      "cell_type": "code",
      "metadata": {
        "id": "RsU9pV7f8ufP"
      },
      "source": [
        "# Import opencv\n",
        "import cv2 \n",
        "\n",
        "# Import uuid\n",
        "import uuid\n",
        "\n",
        "# Import Operating System\n",
        "import os\n",
        "\n",
        "# Import time\n",
        "import time"
      ],
      "execution_count": null,
      "outputs": []
    },
    {
      "cell_type": "markdown",
      "metadata": {
        "id": "UW_n9kMi8ufP"
      },
      "source": [
        "# 2. Define Images to Collect"
      ]
    },
    {
      "cell_type": "code",
      "metadata": {
        "id": "pzVLekWv8ufQ"
      },
      "source": [
        "labels = ['thumbsup', 'thumbsdown', 'thankyou', 'livelong']\n",
        "number_imgs = 5"
      ],
      "execution_count": null,
      "outputs": []
    },
    {
      "cell_type": "markdown",
      "metadata": {
        "id": "S8cspF5Q8ufR"
      },
      "source": [
        "# 3. Setup Folders "
      ]
    },
    {
      "cell_type": "code",
      "metadata": {
        "id": "_ClBY7Os8ufR"
      },
      "source": [
        "IMAGES_PATH = os.path.join('Tensorflow', 'workspace', 'images', 'collectedimages')"
      ],
      "execution_count": null,
      "outputs": []
    },
    {
      "cell_type": "code",
      "metadata": {
        "id": "2Bpj4SvX8ufS"
      },
      "source": [
        "if not os.path.exists(IMAGES_PATH):\n",
        "    if os.name == 'posix':\n",
        "        !mkdir -p {IMAGES_PATH}\n",
        "    if os.name == 'nt':\n",
        "         !mkdir {IMAGES_PATH}\n",
        "for label in labels:\n",
        "    path = os.path.join(IMAGES_PATH, label)\n",
        "    if not os.path.exists(path):\n",
        "        !mkdir {path}"
      ],
      "execution_count": null,
      "outputs": []
    },
    {
      "cell_type": "markdown",
      "metadata": {
        "id": "XTFQqLMP8ufT"
      },
      "source": [
        "# 4. Capture Images"
      ]
    },
    {
      "cell_type": "code",
      "metadata": {
        "id": "M_UVZ7kb8ufT",
        "outputId": "02fd4ea0-1982-4b60-eb90-6ebe0de60513"
      },
      "source": [
        "for label in labels:\n",
        "    cap = cv2.VideoCapture(0)\n",
        "    print('Collecting images for {}'.format(label))\n",
        "    time.sleep(5)\n",
        "    for imgnum in range(number_imgs):\n",
        "        print('Collecting image {}'.format(imgnum))\n",
        "        ret, frame = cap.read()\n",
        "        imgname = os.path.join(IMAGES_PATH,label,label+'.'+'{}.jpg'.format(str(uuid.uuid1())))\n",
        "        cv2.imwrite(imgname, frame)\n",
        "        cv2.imshow('frame', frame)\n",
        "        time.sleep(2)\n",
        "\n",
        "        if cv2.waitKey(1) & 0xFF == ord('q'):\n",
        "            break\n",
        "cap.release()\n",
        "cv2.destroyAllWindows()"
      ],
      "execution_count": null,
      "outputs": [
        {
          "name": "stdout",
          "output_type": "stream",
          "text": [
            "Collecting images for thumbsup\n",
            "Collecting image 0\n",
            "Collecting image 1\n",
            "Collecting image 2\n",
            "Collecting image 3\n",
            "Collecting image 4\n"
          ]
        }
      ]
    },
    {
      "cell_type": "markdown",
      "metadata": {
        "id": "1dgNHmea8ufU"
      },
      "source": [
        "# 5. Image Labelling"
      ]
    },
    {
      "cell_type": "code",
      "metadata": {
        "id": "pLCJA6Yy8ufU",
        "outputId": "89dded89-8f44-4afd-ee24-50208fa53abd"
      },
      "source": [
        "!pip install --upgrade pyqt5 lxml"
      ],
      "execution_count": null,
      "outputs": [
        {
          "name": "stdout",
          "output_type": "stream",
          "text": [
            "Collecting pyqt5\n",
            "  Using cached PyQt5-5.15.4-cp36.cp37.cp38.cp39-none-win_amd64.whl (6.8 MB)\n",
            "Collecting lxml\n",
            "  Using cached lxml-4.6.3-cp37-cp37m-win_amd64.whl (3.5 MB)\n",
            "Collecting PyQt5-sip<13,>=12.8\n",
            "  Using cached PyQt5_sip-12.8.1-cp37-cp37m-win_amd64.whl (62 kB)\n",
            "Collecting PyQt5-Qt5>=5.15\n",
            "  Using cached PyQt5_Qt5-5.15.2-py3-none-win_amd64.whl (50.1 MB)\n",
            "Installing collected packages: PyQt5-sip, PyQt5-Qt5, pyqt5, lxml\n",
            "Successfully installed PyQt5-Qt5-5.15.2 PyQt5-sip-12.8.1 lxml-4.6.3 pyqt5-5.15.4\n"
          ]
        }
      ]
    },
    {
      "cell_type": "code",
      "metadata": {
        "id": "uwz9C1998ufV"
      },
      "source": [
        "LABELIMG_PATH = os.path.join('Tensorflow', 'labelimg')"
      ],
      "execution_count": null,
      "outputs": []
    },
    {
      "cell_type": "code",
      "metadata": {
        "id": "oK5_XAJq8ufV",
        "outputId": "7797995f-5018-4eba-c426-fd3630b864bb"
      },
      "source": [
        "if not os.path.exists(LABELIMG_PATH):\n",
        "    !mkdir {LABELIMG_PATH}\n",
        "    !git clone https://github.com/tzutalin/labelImg {LABELIMG_PATH}"
      ],
      "execution_count": null,
      "outputs": [
        {
          "name": "stderr",
          "output_type": "stream",
          "text": [
            "Cloning into 'Tensorflow\\labelimg'...\n"
          ]
        }
      ]
    },
    {
      "cell_type": "code",
      "metadata": {
        "id": "HnC5AWvQ8ufW"
      },
      "source": [
        "if os.name == 'posix':\n",
        "    !make qt5py3\n",
        "if os.name =='nt':\n",
        "    !cd {LABELIMG_PATH} && pyrcc5 -o libs/resources.py resources.qrc"
      ],
      "execution_count": null,
      "outputs": []
    },
    {
      "cell_type": "code",
      "metadata": {
        "id": "yYd9NYgp8ufW",
        "outputId": "ca438754-3ba8-4a8c-fa19-3258f2106490"
      },
      "source": [
        "!cd {LABELIMG_PATH} && python labelImg.py"
      ],
      "execution_count": null,
      "outputs": [
        {
          "name": "stdout",
          "output_type": "stream",
          "text": [
            "Image:D:\\YouTube\\OD\\TFODCourse\\Tensorflow\\workspace\\images\\collectedimages\\thumbsup\\thumbsup.6a706a36-940f-11eb-b4eb-5cf3709bbcc6.jpg -> Annotation:D:/YouTube/OD/TFODCourse/Tensorflow/workspace/images/collectedimages/thumbsup/thumbsup.6a706a36-940f-11eb-b4eb-5cf3709bbcc6.xml\n",
            "Image:D:\\YouTube\\OD\\TFODCourse\\Tensorflow\\workspace\\images\\collectedimages\\thumbsup\\thumbsup.6ba4d864-940f-11eb-8c74-5cf3709bbcc6.jpg -> Annotation:D:/YouTube/OD/TFODCourse/Tensorflow/workspace/images/collectedimages/thumbsup/thumbsup.6ba4d864-940f-11eb-8c74-5cf3709bbcc6.xml\n",
            "Image:D:\\YouTube\\OD\\TFODCourse\\Tensorflow\\workspace\\images\\collectedimages\\thumbsup\\thumbsup.6cd9c8e2-940f-11eb-b901-5cf3709bbcc6.jpg -> Annotation:D:/YouTube/OD/TFODCourse/Tensorflow/workspace/images/collectedimages/thumbsup/thumbsup.6cd9c8e2-940f-11eb-b901-5cf3709bbcc6.xml\n",
            "Image:D:\\YouTube\\OD\\TFODCourse\\Tensorflow\\workspace\\images\\collectedimages\\thumbsup\\thumbsup.6e0f5bc0-940f-11eb-8d18-5cf3709bbcc6.jpg -> Annotation:D:/YouTube/OD/TFODCourse/Tensorflow/workspace/images/collectedimages/thumbsup/thumbsup.6e0f5bc0-940f-11eb-8d18-5cf3709bbcc6.xml\n",
            "Image:D:\\YouTube\\OD\\TFODCourse\\Tensorflow\\workspace\\images\\collectedimages\\thumbsup\\thumbsup.693a5158-940f-11eb-8752-5cf3709bbcc6.jpg -> Annotation:D:/YouTube/OD/TFODCourse/Tensorflow/workspace/images/collectedimages/thumbsup/thumbsup.693a5158-940f-11eb-8752-5cf3709bbcc6.xml\n"
          ]
        }
      ]
    },
    {
      "cell_type": "markdown",
      "metadata": {
        "id": "7gFpqpnb8ufW"
      },
      "source": [
        "# 6. Move them into a Training and Testing Partition"
      ]
    },
    {
      "cell_type": "markdown",
      "metadata": {
        "id": "GfDMw18u8ufW"
      },
      "source": [
        "# OPTIONAL - 7. Compress them for Colab Training"
      ]
    },
    {
      "cell_type": "code",
      "metadata": {
        "id": "58TtEpMR8ufW"
      },
      "source": [
        "TRAIN_PATH = os.path.join('Tensorflow', 'workspace', 'images', 'train')\n",
        "TEST_PATH = os.path.join('Tensorflow', 'workspace', 'images', 'test')\n",
        "ARCHIVE_PATH = os.path.join('Tensorflow', 'workspace', 'images', 'archive.tar.gz')"
      ],
      "execution_count": null,
      "outputs": []
    },
    {
      "cell_type": "code",
      "metadata": {
        "id": "xA0K9cFy8ufX"
      },
      "source": [
        "!tar -czf {ARCHIVE_PATH} {TRAIN_PATH} {TEST_PATH}"
      ],
      "execution_count": null,
      "outputs": []
    },
    {
      "cell_type": "code",
      "metadata": {
        "id": "FBwnOlSm8ufX"
      },
      "source": [
        ""
      ],
      "execution_count": null,
      "outputs": []
    }
  ]
}